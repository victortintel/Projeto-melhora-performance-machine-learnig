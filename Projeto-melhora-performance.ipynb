{
 "cells": [
  {
   "cell_type": "markdown",
   "id": "4f352e44",
   "metadata": {},
   "source": [
    "## Treinando milhares de modelos preditivos simultaneamente com hiperparametros\n",
    "### Vou criar e treinar mais de 7.000 modelos preditivos com 5 algoritmos diferentes\n",
    "\n",
    "### Random Forest, SVM, KNN, Naive Bayes e Regressão Logistica\n"
   ]
  },
  {
   "cell_type": "code",
   "execution_count": 2,
   "id": "10112c17",
   "metadata": {},
   "outputs": [],
   "source": [
    "# Importar os pacotes que irei utilizar.\n",
    "\n",
    "import pandas as pd\n",
    "import numpy as np\n",
    "import time\n",
    "\n",
    "import warnings\n",
    "warnings.filterwarnings(\"ignore\") \n",
    "\n",
    "\n",
    "from sklearn.svm import SVC\n",
    "from sklearn.naive_bayes import CategoricalNB\n",
    "from sklearn.neighbors import KNeighborsClassifier\n",
    "from sklearn.linear_model import LogisticRegression\n",
    "from sklearn.ensemble import RandomForestClassifier\n",
    "from sklearn.model_selection import GridSearchCV\n",
    "from sklearn.metrics import r2_score\n",
    "from sklearn.preprocessing import LabelEncoder\n",
    "from sklearn.preprocessing import MinMaxScaler\n",
    "from sklearn.model_selection import train_test_split\n",
    "\n",
    "# Comando para exibir todas colunas do arquivo\n",
    "pd.set_option('display.max_columns', None)\n",
    "pd.set_option('display.max_rows', None)\n",
    "pd.set_option('max_colwidth', 50)"
   ]
  },
  {
   "cell_type": "markdown",
   "id": "87e5a74e",
   "metadata": {},
   "source": [
    "## Importação dos dados, Analise Exploratória e Tratamento de Dados"
   ]
  },
  {
   "cell_type": "code",
   "execution_count": 5,
   "id": "576aab63",
   "metadata": {},
   "outputs": [],
   "source": [
    "# Comando utilizado para carregar o arquivo e armazena-lo como um DataFrame do Pandas\n",
    "\n",
    "df_dados = pd.read_excel(\"dados.xlsx\")"
   ]
  },
  {
   "cell_type": "code",
   "execution_count": 6,
   "id": "1c1942ca",
   "metadata": {},
   "outputs": [
    {
     "data": {
      "text/plain": [
       "(2000, 11)"
      ]
     },
     "execution_count": 6,
     "metadata": {},
     "output_type": "execute_result"
    }
   ],
   "source": [
    "# Comando utilizado para verificar a quantidade de linhas e colunas do arquivo\n",
    "# Colunas também são chamadas de variáveis.\n",
    "\n",
    "df_dados.shape"
   ]
  },
  {
   "cell_type": "code",
   "execution_count": 9,
   "id": "787717e5",
   "metadata": {},
   "outputs": [
    {
     "name": "stdout",
     "output_type": "stream",
     "text": [
      "<class 'pandas.core.frame.DataFrame'>\n",
      "RangeIndex: 2000 entries, 0 to 1999\n",
      "Data columns (total 11 columns):\n",
      " #   Column                      Non-Null Count  Dtype  \n",
      "---  ------                      --------------  -----  \n",
      " 0   UF                          2000 non-null   object \n",
      " 1   IDADE                       2000 non-null   int64  \n",
      " 2   ESCOLARIDADE                2000 non-null   object \n",
      " 3   ESTADO_CIVIL                2000 non-null   object \n",
      " 4   QT_FILHOS                   2000 non-null   int64  \n",
      " 5   VL_IMOVEIS                  2000 non-null   int64  \n",
      " 6   TEMPO_ULTIMO_EMPREGO_MESES  2000 non-null   int64  \n",
      " 7   ULTIMO_SALARIO              2000 non-null   int64  \n",
      " 8   VALOR_TABELA_CARROS         2000 non-null   int64  \n",
      " 9   SCORE_CREDITO               2000 non-null   float64\n",
      " 10  EMPRESTIMO                  2000 non-null   object \n",
      "dtypes: float64(1), int64(6), object(4)\n",
      "memory usage: 172.0+ KB\n"
     ]
    }
   ],
   "source": [
    "# Comando utilizado para verificar informações sobre os dados(Tipo de variáveis, Variáveis, Quantidade de registros, etc)\n",
    "\n",
    "df_dados.info()"
   ]
  },
  {
   "cell_type": "markdown",
   "id": "8201eff2-3ee7-441b-a2fe-936a67134edc",
   "metadata": {},
   "source": [
    "Como podemos perceber acima, temos 3 variáveis OBJECT e precisamos fazer o ONEHOTENCODING nelas."
   ]
  },
  {
   "cell_type": "code",
   "execution_count": 12,
   "id": "25834a47",
   "metadata": {},
   "outputs": [
    {
     "data": {
      "text/plain": [
       "UF                            0\n",
       "IDADE                         0\n",
       "ESCOLARIDADE                  0\n",
       "ESTADO_CIVIL                  0\n",
       "QT_FILHOS                     0\n",
       "VL_IMOVEIS                    0\n",
       "TEMPO_ULTIMO_EMPREGO_MESES    0\n",
       "ULTIMO_SALARIO                0\n",
       "VALOR_TABELA_CARROS           0\n",
       "SCORE_CREDITO                 0\n",
       "EMPRESTIMO                    0\n",
       "dtype: int64"
      ]
     },
     "execution_count": 12,
     "metadata": {},
     "output_type": "execute_result"
    }
   ],
   "source": [
    "# Comando utilizado para avaliar se alguma variável possui valor nulo ou chamado de valores missing ou NAN (Not Available)\n",
    "\n",
    "df_dados.isnull().sum()"
   ]
  },
  {
   "cell_type": "markdown",
   "id": "d69fb0ca",
   "metadata": {},
   "source": [
    "## Pré Processamento dos Dados"
   ]
  },
  {
   "cell_type": "code",
   "execution_count": 15,
   "id": "04352444",
   "metadata": {},
   "outputs": [],
   "source": [
    "# Cria o encoder\n",
    "lb = LabelEncoder()\n",
    "\n",
    "# Aplica o encoder nas variáveis que estão com string\n",
    "df_dados['ESTADO_CIVIL'] = lb.fit_transform(df_dados['ESTADO_CIVIL'])\n",
    "df_dados['ESCOLARIDADE'] = lb.fit_transform(df_dados['ESCOLARIDADE'])\n",
    "df_dados['UF'] = lb.fit_transform(df_dados['UF'])"
   ]
  },
  {
   "cell_type": "code",
   "execution_count": 17,
   "id": "286470da",
   "metadata": {},
   "outputs": [
    {
     "data": {
      "text/html": [
       "<div>\n",
       "<style scoped>\n",
       "    .dataframe tbody tr th:only-of-type {\n",
       "        vertical-align: middle;\n",
       "    }\n",
       "\n",
       "    .dataframe tbody tr th {\n",
       "        vertical-align: top;\n",
       "    }\n",
       "\n",
       "    .dataframe thead th {\n",
       "        text-align: right;\n",
       "    }\n",
       "</style>\n",
       "<table border=\"1\" class=\"dataframe\">\n",
       "  <thead>\n",
       "    <tr style=\"text-align: right;\">\n",
       "      <th></th>\n",
       "      <th>UF</th>\n",
       "      <th>IDADE</th>\n",
       "      <th>ESCOLARIDADE</th>\n",
       "      <th>ESTADO_CIVIL</th>\n",
       "      <th>QT_FILHOS</th>\n",
       "      <th>VL_IMOVEIS</th>\n",
       "      <th>TEMPO_ULTIMO_EMPREGO_MESES</th>\n",
       "      <th>ULTIMO_SALARIO</th>\n",
       "      <th>VALOR_TABELA_CARROS</th>\n",
       "      <th>SCORE_CREDITO</th>\n",
       "      <th>EMPRESTIMO</th>\n",
       "    </tr>\n",
       "  </thead>\n",
       "  <tbody>\n",
       "    <tr>\n",
       "      <th>0</th>\n",
       "      <td>4</td>\n",
       "      <td>19</td>\n",
       "      <td>2</td>\n",
       "      <td>2</td>\n",
       "      <td>0</td>\n",
       "      <td>0</td>\n",
       "      <td>8</td>\n",
       "      <td>1800</td>\n",
       "      <td>0</td>\n",
       "      <td>56.000000</td>\n",
       "      <td>SIM</td>\n",
       "    </tr>\n",
       "    <tr>\n",
       "      <th>1</th>\n",
       "      <td>0</td>\n",
       "      <td>23</td>\n",
       "      <td>1</td>\n",
       "      <td>2</td>\n",
       "      <td>1</td>\n",
       "      <td>0</td>\n",
       "      <td>9</td>\n",
       "      <td>4800</td>\n",
       "      <td>50000</td>\n",
       "      <td>18.000000</td>\n",
       "      <td>NAO</td>\n",
       "    </tr>\n",
       "    <tr>\n",
       "      <th>2</th>\n",
       "      <td>3</td>\n",
       "      <td>25</td>\n",
       "      <td>0</td>\n",
       "      <td>0</td>\n",
       "      <td>0</td>\n",
       "      <td>220000</td>\n",
       "      <td>18</td>\n",
       "      <td>2200</td>\n",
       "      <td>30000</td>\n",
       "      <td>45.000000</td>\n",
       "      <td>SIM</td>\n",
       "    </tr>\n",
       "    <tr>\n",
       "      <th>3</th>\n",
       "      <td>1</td>\n",
       "      <td>27</td>\n",
       "      <td>2</td>\n",
       "      <td>0</td>\n",
       "      <td>1</td>\n",
       "      <td>0</td>\n",
       "      <td>22</td>\n",
       "      <td>3900</td>\n",
       "      <td>0</td>\n",
       "      <td>28.666667</td>\n",
       "      <td>NAO</td>\n",
       "    </tr>\n",
       "    <tr>\n",
       "      <th>4</th>\n",
       "      <td>4</td>\n",
       "      <td>30</td>\n",
       "      <td>0</td>\n",
       "      <td>1</td>\n",
       "      <td>0</td>\n",
       "      <td>0</td>\n",
       "      <td>14</td>\n",
       "      <td>3100</td>\n",
       "      <td>40000</td>\n",
       "      <td>39.666667</td>\n",
       "      <td>SIM</td>\n",
       "    </tr>\n",
       "  </tbody>\n",
       "</table>\n",
       "</div>"
      ],
      "text/plain": [
       "   UF  IDADE  ESCOLARIDADE  ESTADO_CIVIL  QT_FILHOS  VL_IMOVEIS  \\\n",
       "0   4     19             2             2          0           0   \n",
       "1   0     23             1             2          1           0   \n",
       "2   3     25             0             0          0      220000   \n",
       "3   1     27             2             0          1           0   \n",
       "4   4     30             0             1          0           0   \n",
       "\n",
       "   TEMPO_ULTIMO_EMPREGO_MESES  ULTIMO_SALARIO  VALOR_TABELA_CARROS  \\\n",
       "0                           8            1800                    0   \n",
       "1                           9            4800                50000   \n",
       "2                          18            2200                30000   \n",
       "3                          22            3900                    0   \n",
       "4                          14            3100                40000   \n",
       "\n",
       "   SCORE_CREDITO EMPRESTIMO  \n",
       "0      56.000000        SIM  \n",
       "1      18.000000        NAO  \n",
       "2      45.000000        SIM  \n",
       "3      28.666667        NAO  \n",
       "4      39.666667        SIM  "
      ]
     },
     "execution_count": 17,
     "metadata": {},
     "output_type": "execute_result"
    }
   ],
   "source": [
    "df_dados.head()"
   ]
  },
  {
   "cell_type": "code",
   "execution_count": 19,
   "id": "facc9736",
   "metadata": {},
   "outputs": [],
   "source": [
    "# Separando a variavel alvo\n",
    "\n",
    "target = df_dados.iloc[:,10]"
   ]
  },
  {
   "cell_type": "code",
   "execution_count": 20,
   "id": "37f2e5b0",
   "metadata": {},
   "outputs": [
    {
     "data": {
      "text/plain": [
       "0    SIM\n",
       "1    NAO\n",
       "2    SIM\n",
       "3    NAO\n",
       "4    SIM\n",
       "Name: EMPRESTIMO, dtype: object"
      ]
     },
     "execution_count": 20,
     "metadata": {},
     "output_type": "execute_result"
    }
   ],
   "source": [
    "target.head()"
   ]
  },
  {
   "cell_type": "code",
   "execution_count": 23,
   "id": "da31a2f3",
   "metadata": {},
   "outputs": [
    {
     "data": {
      "text/html": [
       "<div>\n",
       "<style scoped>\n",
       "    .dataframe tbody tr th:only-of-type {\n",
       "        vertical-align: middle;\n",
       "    }\n",
       "\n",
       "    .dataframe tbody tr th {\n",
       "        vertical-align: top;\n",
       "    }\n",
       "\n",
       "    .dataframe thead th {\n",
       "        text-align: right;\n",
       "    }\n",
       "</style>\n",
       "<table border=\"1\" class=\"dataframe\">\n",
       "  <thead>\n",
       "    <tr style=\"text-align: right;\">\n",
       "      <th></th>\n",
       "      <th>UF</th>\n",
       "      <th>IDADE</th>\n",
       "      <th>ESCOLARIDADE</th>\n",
       "      <th>ESTADO_CIVIL</th>\n",
       "      <th>QT_FILHOS</th>\n",
       "      <th>VL_IMOVEIS</th>\n",
       "      <th>TEMPO_ULTIMO_EMPREGO_MESES</th>\n",
       "      <th>ULTIMO_SALARIO</th>\n",
       "      <th>VALOR_TABELA_CARROS</th>\n",
       "      <th>SCORE_CREDITO</th>\n",
       "    </tr>\n",
       "  </thead>\n",
       "  <tbody>\n",
       "    <tr>\n",
       "      <th>0</th>\n",
       "      <td>4</td>\n",
       "      <td>19</td>\n",
       "      <td>2</td>\n",
       "      <td>2</td>\n",
       "      <td>0</td>\n",
       "      <td>0</td>\n",
       "      <td>8</td>\n",
       "      <td>1800</td>\n",
       "      <td>0</td>\n",
       "      <td>56.000000</td>\n",
       "    </tr>\n",
       "    <tr>\n",
       "      <th>1</th>\n",
       "      <td>0</td>\n",
       "      <td>23</td>\n",
       "      <td>1</td>\n",
       "      <td>2</td>\n",
       "      <td>1</td>\n",
       "      <td>0</td>\n",
       "      <td>9</td>\n",
       "      <td>4800</td>\n",
       "      <td>50000</td>\n",
       "      <td>18.000000</td>\n",
       "    </tr>\n",
       "    <tr>\n",
       "      <th>2</th>\n",
       "      <td>3</td>\n",
       "      <td>25</td>\n",
       "      <td>0</td>\n",
       "      <td>0</td>\n",
       "      <td>0</td>\n",
       "      <td>220000</td>\n",
       "      <td>18</td>\n",
       "      <td>2200</td>\n",
       "      <td>30000</td>\n",
       "      <td>45.000000</td>\n",
       "    </tr>\n",
       "    <tr>\n",
       "      <th>3</th>\n",
       "      <td>1</td>\n",
       "      <td>27</td>\n",
       "      <td>2</td>\n",
       "      <td>0</td>\n",
       "      <td>1</td>\n",
       "      <td>0</td>\n",
       "      <td>22</td>\n",
       "      <td>3900</td>\n",
       "      <td>0</td>\n",
       "      <td>28.666667</td>\n",
       "    </tr>\n",
       "    <tr>\n",
       "      <th>4</th>\n",
       "      <td>4</td>\n",
       "      <td>30</td>\n",
       "      <td>0</td>\n",
       "      <td>1</td>\n",
       "      <td>0</td>\n",
       "      <td>0</td>\n",
       "      <td>14</td>\n",
       "      <td>3100</td>\n",
       "      <td>40000</td>\n",
       "      <td>39.666667</td>\n",
       "    </tr>\n",
       "  </tbody>\n",
       "</table>\n",
       "</div>"
      ],
      "text/plain": [
       "   UF  IDADE  ESCOLARIDADE  ESTADO_CIVIL  QT_FILHOS  VL_IMOVEIS  \\\n",
       "0   4     19             2             2          0           0   \n",
       "1   0     23             1             2          1           0   \n",
       "2   3     25             0             0          0      220000   \n",
       "3   1     27             2             0          1           0   \n",
       "4   4     30             0             1          0           0   \n",
       "\n",
       "   TEMPO_ULTIMO_EMPREGO_MESES  ULTIMO_SALARIO  VALOR_TABELA_CARROS  \\\n",
       "0                           8            1800                    0   \n",
       "1                           9            4800                50000   \n",
       "2                          18            2200                30000   \n",
       "3                          22            3900                    0   \n",
       "4                          14            3100                40000   \n",
       "\n",
       "   SCORE_CREDITO  \n",
       "0      56.000000  \n",
       "1      18.000000  \n",
       "2      45.000000  \n",
       "3      28.666667  \n",
       "4      39.666667  "
      ]
     },
     "execution_count": 23,
     "metadata": {},
     "output_type": "execute_result"
    }
   ],
   "source": [
    "# Separando as variaveis preditoras\n",
    "\n",
    "preditoras = df_dados.copy() #Fazendo uma cópia do dataframe\n",
    "\n",
    "del preditoras['EMPRESTIMO'] #Excluindo a variavel target, pois já separei ela na etapa anterior\n",
    "\n",
    "preditoras.head() #Visualizando as variaveis preditoras"
   ]
  },
  {
   "cell_type": "code",
   "execution_count": 25,
   "id": "b57248f8",
   "metadata": {},
   "outputs": [],
   "source": [
    "# Divisão em Dados de Treino e Teste.\n",
    "\n",
    "X_treino, X_teste, y_treino, y_teste = train_test_split(preditoras, target, test_size = 0.3, random_state = 40)"
   ]
  },
  {
   "cell_type": "code",
   "execution_count": 27,
   "id": "4aa3083a",
   "metadata": {},
   "outputs": [],
   "source": [
    "# Vamos aplicar a normalização em treino e teste\n",
    "\n",
    "sc = MinMaxScaler()\n",
    "X_treino_normalizados = sc.fit_transform(X_treino)\n",
    "X_teste_normalizados = sc.transform(X_teste)"
   ]
  },
  {
   "cell_type": "markdown",
   "id": "9d596916",
   "metadata": {},
   "source": [
    "## Algoritmo Random Forest"
   ]
  },
  {
   "cell_type": "code",
   "execution_count": 62,
   "id": "ea932357",
   "metadata": {},
   "outputs": [],
   "source": [
    "# Construtor do Modelo\n",
    "# Crie o modelo com parâmetros explícitos\n",
    "\n",
    "randomForest = RandomForestClassifier(\n",
    "    bootstrap=True,  # Valor padrão, mas será sobrescrito pelo GridSearchCV\n",
    "    random_state=42\n",
    ")"
   ]
  },
  {
   "cell_type": "code",
   "execution_count": 64,
   "id": "0433c034",
   "metadata": {},
   "outputs": [
    {
     "name": "stdout",
     "output_type": "stream",
     "text": [
      "{'bootstrap': True, 'ccp_alpha': 0.0, 'class_weight': None, 'criterion': 'gini', 'max_depth': None, 'max_features': 'sqrt', 'max_leaf_nodes': None, 'max_samples': None, 'min_impurity_decrease': 0.0, 'min_samples_leaf': 1, 'min_samples_split': 2, 'min_weight_fraction_leaf': 0.0, 'monotonic_cst': None, 'n_estimators': 100, 'n_jobs': None, 'oob_score': False, 'random_state': 42, 'verbose': 0, 'warm_start': False}\n"
     ]
    }
   ],
   "source": [
    "# Visualiza os Hiperparametros padrão do Modelo\n",
    "\n",
    "print(randomForest.get_params())"
   ]
  },
  {
   "cell_type": "code",
   "execution_count": 100,
   "id": "6eaf07ed-d754-4199-8efa-8e15fd93ee54",
   "metadata": {},
   "outputs": [],
   "source": [
    "# Valores para o grid de hiperparametros\n",
    "\n",
    "n_estimators = np.array([100, 150, 200, 250, 300])\n",
    "max_depth = np.array([10, 20])\n",
    "criterion = np.array([\"gini\", \"entropy\"])\n",
    "max_features = np.array([\"sqrt\", \"log2\", None])\n",
    "min_samples_split = np.array([2, 5, 10])  \n",
    "min_samples_leaf = np.array([1, 2, 3])    \n",
    "bootstrap = np.array([True, False])      \n",
    " "
   ]
  },
  {
   "cell_type": "code",
   "execution_count": 82,
   "id": "f288aa8a-563d-4947-a8df-fea4e22e4861",
   "metadata": {},
   "outputs": [],
   "source": [
    "# Grid de hiperparâmetros\n",
    "\n",
    "grid_parametros = dict(\n",
    "    n_estimators=n_estimators,\n",
    "    max_depth=max_depth,\n",
    "    criterion=criterion,\n",
    "    max_features=max_features,\n",
    "    min_samples_split=min_samples_split,\n",
    "    min_samples_leaf=min_samples_leaf,\n",
    "    bootstrap=bootstrap  \n",
    ")"
   ]
  },
  {
   "cell_type": "code",
   "execution_count": 84,
   "id": "9148f2fc-2053-496e-96f5-10fdbddbb39c",
   "metadata": {},
   "outputs": [],
   "source": [
    "# Criando o modelo com o Grid de Hiperparametros\n",
    "\n",
    "randomForest_grid = GridSearchCV(\n",
    "    randomForest,\n",
    "    grid_parametros,\n",
    "    cv=3,\n",
    "    n_jobs=8,\n",
    "    error_score='raise'  # Para debugar melhor se houver erros\n",
    ")"
   ]
  },
  {
   "cell_type": "code",
   "execution_count": 86,
   "id": "4b159588-f546-4638-a3a6-11a170b29e19",
   "metadata": {},
   "outputs": [],
   "source": [
    "# Treinando os modelos\n",
    "\n",
    "inicio = time.time()\n",
    "randomForest_grid.fit(X_treino_normalizados, y_treino)\n",
    "fim = time.time()"
   ]
  },
  {
   "cell_type": "code",
   "execution_count": 92,
   "id": "4cd87e2d",
   "metadata": {},
   "outputs": [
    {
     "name": "stdout",
     "output_type": "stream",
     "text": [
      "Acurácia em Treinamento: 78.64%\n",
      "\n",
      "Hiperparâmetros Ideais: {'bootstrap': True, 'criterion': 'entropy', 'max_depth': 20, 'max_features': None, 'min_samples_leaf': 1, 'min_samples_split': 5, 'n_estimators': 150}\n",
      "\n",
      "Tempo de Treinamento do Modelo:  174.21\n",
      "\n",
      "Numero de treinamentos realizados:  1080\n"
     ]
    }
   ],
   "source": [
    "# Obtendo e visualizando os parametros treinados\n",
    "treinos_rf = pd.DataFrame(randomForest_grid.cv_results_)\n",
    "\n",
    "# Acurácia em Treino\n",
    "print(f\"Acurácia em Treinamento: {randomForest_grid.best_score_ :.2%}\")\n",
    "print(\"\")\n",
    "print(f\"Hiperparâmetros Ideais: {randomForest_grid.best_params_}\")\n",
    "print(\"\")\n",
    "print(\"Tempo de Treinamento do Modelo: \", round(fim - inicio,2))\n",
    "print(\"\")\n",
    "print(\"Numero de treinamentos realizados: \", treinos_rf.shape[0])"
   ]
  },
  {
   "cell_type": "code",
   "execution_count": 94,
   "id": "ecce4d55",
   "metadata": {},
   "outputs": [],
   "source": [
    "# Dicionário de métricas e metadados\n",
    "\n",
    "modelo_rf = {'Melhores Hiperparametros':randomForest_grid.best_params_,\n",
    "               'Numero de Modelos Treinados': treinos_rf.shape[0],  \n",
    "               'Melhor Score': str(round(randomForest_grid.best_score_ * 100,2))+\"%\"}"
   ]
  },
  {
   "cell_type": "code",
   "execution_count": 96,
   "id": "6792870d",
   "metadata": {},
   "outputs": [
    {
     "data": {
      "text/plain": [
       "{'Melhores Hiperparametros': {'bootstrap': True,\n",
       "  'criterion': 'entropy',\n",
       "  'max_depth': 20,\n",
       "  'max_features': None,\n",
       "  'min_samples_leaf': 1,\n",
       "  'min_samples_split': 5,\n",
       "  'n_estimators': 150},\n",
       " 'Numero de Modelos Treinados': 1080,\n",
       " 'Melhor Score': '78.64%'}"
      ]
     },
     "execution_count": 96,
     "metadata": {},
     "output_type": "execute_result"
    }
   ],
   "source": [
    "modelo_rf"
   ]
  },
  {
   "cell_type": "markdown",
   "id": "742a611e",
   "metadata": {},
   "source": [
    "## Algoritmo SVM (Suport Vector Machine)"
   ]
  },
  {
   "cell_type": "code",
   "execution_count": 102,
   "id": "55899ea3",
   "metadata": {},
   "outputs": [],
   "source": [
    "modelo_svm = SVC()"
   ]
  },
  {
   "cell_type": "code",
   "execution_count": 104,
   "id": "45217d8b",
   "metadata": {},
   "outputs": [
    {
     "data": {
      "text/plain": [
       "{'C': 1.0,\n",
       " 'break_ties': False,\n",
       " 'cache_size': 200,\n",
       " 'class_weight': None,\n",
       " 'coef0': 0.0,\n",
       " 'decision_function_shape': 'ovr',\n",
       " 'degree': 3,\n",
       " 'gamma': 'scale',\n",
       " 'kernel': 'rbf',\n",
       " 'max_iter': -1,\n",
       " 'probability': False,\n",
       " 'random_state': None,\n",
       " 'shrinking': True,\n",
       " 'tol': 0.001,\n",
       " 'verbose': False}"
      ]
     },
     "execution_count": 104,
     "metadata": {},
     "output_type": "execute_result"
    }
   ],
   "source": [
    "modelo_svm.get_params()"
   ]
  },
  {
   "cell_type": "code",
   "execution_count": 106,
   "id": "929bd407",
   "metadata": {},
   "outputs": [
    {
     "name": "stdout",
     "output_type": "stream",
     "text": [
      "Acurácia em Treinamento: 75.07%\n",
      "\n",
      "Hiperparâmetros Ideais: {'C': 10, 'coef0': 0.5, 'decision_function_shape': 'ovo', 'degree': 4, 'gamma': 1, 'kernel': 'poly', 'max_iter': -1}\n",
      "\n",
      "Tempo de Treinamento do Modelo:  44.86\n",
      "\n",
      "Numero de treinamentos realizados:  1536\n"
     ]
    }
   ],
   "source": [
    "# Valores para o grid de hiperparametros\n",
    "grid_parametros = {'C': [0.1,1,10,100],\n",
    "                   'gamma': [1,0.1,0.01,0.001],\n",
    "                   'kernel': ['poly','rbf','sigmoid','linear'],\n",
    "                   'degree' : [2,3,4,],\n",
    "                   'coef0' : [0.5,1],\n",
    "                   'decision_function_shape':['ovo', 'ovr'],\n",
    "                   'max_iter': [-1, 1]}\n",
    "\n",
    "\n",
    "svm = GridSearchCV(modelo_svm, grid_parametros, n_jobs = 8)\n",
    "\n",
    "# Treinando os modelos\n",
    "inicio = time.time()\n",
    "svm.fit(X_treino_normalizados, y_treino)\n",
    "fim = time.time()\n",
    "\n",
    "# Obtendo e visualizando os parametros treinados\n",
    "treinos_svm = pd.DataFrame(svm.cv_results_)\n",
    "\n",
    "# Acurácia em Treino\n",
    "print(f\"Acurácia em Treinamento: {svm.best_score_ :.2%}\")\n",
    "print(\"\")\n",
    "print(f\"Hiperparâmetros Ideais: {svm.best_params_}\")\n",
    "print(\"\")\n",
    "print(\"Tempo de Treinamento do Modelo: \", round(fim - inicio,2))\n",
    "print(\"\")\n",
    "print(\"Numero de treinamentos realizados: \", treinos_svm.shape[0])"
   ]
  },
  {
   "cell_type": "code",
   "execution_count": 108,
   "id": "e4a47f90",
   "metadata": {},
   "outputs": [],
   "source": [
    "# Dicionário de métricas e metadados\n",
    "\n",
    "modelo_svm = {'Melhores Hiperparametros':svm.best_params_,\n",
    "               'Numero de Modelos Treinados': treinos_svm.shape[0],  \n",
    "               'Melhor Score': str(round(svm.best_score_ * 100,2))+\"%\"}"
   ]
  },
  {
   "cell_type": "code",
   "execution_count": 110,
   "id": "61417202",
   "metadata": {},
   "outputs": [
    {
     "data": {
      "text/plain": [
       "{'Melhores Hiperparametros': {'C': 10,\n",
       "  'coef0': 0.5,\n",
       "  'decision_function_shape': 'ovo',\n",
       "  'degree': 4,\n",
       "  'gamma': 1,\n",
       "  'kernel': 'poly',\n",
       "  'max_iter': -1},\n",
       " 'Numero de Modelos Treinados': 1536,\n",
       " 'Melhor Score': '75.07%'}"
      ]
     },
     "execution_count": 110,
     "metadata": {},
     "output_type": "execute_result"
    }
   ],
   "source": [
    "modelo_svm"
   ]
  },
  {
   "cell_type": "markdown",
   "id": "37a39cc4",
   "metadata": {},
   "source": [
    "## Algoritmo Naive Bayes"
   ]
  },
  {
   "cell_type": "code",
   "execution_count": 112,
   "id": "3bffacef",
   "metadata": {},
   "outputs": [],
   "source": [
    "nb = CategoricalNB()"
   ]
  },
  {
   "cell_type": "code",
   "execution_count": 114,
   "id": "ca5cd66e",
   "metadata": {},
   "outputs": [
    {
     "data": {
      "text/plain": [
       "{'alpha': 1.0,\n",
       " 'class_prior': None,\n",
       " 'fit_prior': True,\n",
       " 'force_alpha': True,\n",
       " 'min_categories': None}"
      ]
     },
     "execution_count": 114,
     "metadata": {},
     "output_type": "execute_result"
    }
   ],
   "source": [
    "nb.get_params()"
   ]
  },
  {
   "cell_type": "code",
   "execution_count": 158,
   "id": "0bbe85ae-6857-413d-8b65-1556cb398ebc",
   "metadata": {},
   "outputs": [
    {
     "name": "stdout",
     "output_type": "stream",
     "text": [
      "\n",
      "Verificando dados de entrada...\n",
      "Tipo de X_treino: <class 'numpy.ndarray'>\n",
      "Forma de X_treino: (1400, 10)\n",
      "Tipo de y_treino: <class 'numpy.ndarray'>\n",
      "Forma de y_treino: (1400,)\n",
      "\n",
      "Iniciando treinamento...\n",
      "Fitting 3 folds for each of 12 candidates, totalling 36 fits\n",
      "[CV 1/3] END alpha=0.1, fit_prior=True, min_categories=1;, score=0.527 total time=   0.0s\n",
      "[CV 2/3] END alpha=0.1, fit_prior=True, min_categories=1;, score=0.495 total time=   0.0s\n",
      "[CV 3/3] END alpha=0.1, fit_prior=True, min_categories=1;, score=0.552 total time=   0.0s\n",
      "[CV 1/3] END alpha=0.1, fit_prior=True, min_categories=2;, score=0.527 total time=   0.0s\n",
      "[CV 2/3] END alpha=0.1, fit_prior=True, min_categories=2;, score=0.495 total time=   0.0s\n",
      "[CV 3/3] END alpha=0.1, fit_prior=True, min_categories=2;, score=0.552 total time=   0.0s\n",
      "[CV 1/3] END alpha=0.1, fit_prior=False, min_categories=1;, score=0.525 total time=   0.0s\n",
      "[CV 2/3] END alpha=0.1, fit_prior=False, min_categories=1;, score=0.507 total time=   0.0s\n",
      "[CV 3/3] END alpha=0.1, fit_prior=False, min_categories=1;, score=0.552 total time=   0.0s\n",
      "[CV 1/3] END alpha=0.1, fit_prior=False, min_categories=2;, score=0.525 total time=   0.0s\n",
      "[CV 2/3] END alpha=0.1, fit_prior=False, min_categories=2;, score=0.507 total time=   0.0s\n",
      "[CV 3/3] END alpha=0.1, fit_prior=False, min_categories=2;, score=0.552 total time=   0.0s\n",
      "[CV 1/3] END alpha=0.5, fit_prior=True, min_categories=1;, score=0.527 total time=   0.0s\n",
      "[CV 2/3] END alpha=0.5, fit_prior=True, min_categories=1;, score=0.495 total time=   0.0s\n",
      "[CV 3/3] END alpha=0.5, fit_prior=True, min_categories=1;, score=0.552 total time=   0.0s\n",
      "[CV 1/3] END alpha=0.5, fit_prior=True, min_categories=2;, score=0.527 total time=   0.0s\n",
      "[CV 2/3] END alpha=0.5, fit_prior=True, min_categories=2;, score=0.495 total time=   0.0s\n",
      "[CV 3/3] END alpha=0.5, fit_prior=True, min_categories=2;, score=0.552 total time=   0.0s\n",
      "[CV 1/3] END alpha=0.5, fit_prior=False, min_categories=1;, score=0.525 total time=   0.0s\n",
      "[CV 2/3] END alpha=0.5, fit_prior=False, min_categories=1;, score=0.507 total time=   0.0s\n",
      "[CV 3/3] END alpha=0.5, fit_prior=False, min_categories=1;, score=0.552 total time=   0.0s\n",
      "[CV 1/3] END alpha=0.5, fit_prior=False, min_categories=2;, score=0.525 total time=   0.0s\n",
      "[CV 2/3] END alpha=0.5, fit_prior=False, min_categories=2;, score=0.507 total time=   0.0s\n",
      "[CV 3/3] END alpha=0.5, fit_prior=False, min_categories=2;, score=0.552 total time=   0.0s\n",
      "[CV 1/3] END alpha=1.0, fit_prior=True, min_categories=1;, score=0.527 total time=   0.0s\n",
      "[CV 2/3] END alpha=1.0, fit_prior=True, min_categories=1;, score=0.495 total time=   0.0s\n",
      "[CV 3/3] END alpha=1.0, fit_prior=True, min_categories=1;, score=0.554 total time=   0.0s\n",
      "[CV 1/3] END alpha=1.0, fit_prior=True, min_categories=2;, score=0.527 total time=   0.0s\n",
      "[CV 2/3] END alpha=1.0, fit_prior=True, min_categories=2;, score=0.495 total time=   0.0s\n",
      "[CV 3/3] END alpha=1.0, fit_prior=True, min_categories=2;, score=0.554 total time=   0.0s\n",
      "[CV 1/3] END alpha=1.0, fit_prior=False, min_categories=1;, score=0.525 total time=   0.0s\n",
      "[CV 2/3] END alpha=1.0, fit_prior=False, min_categories=1;, score=0.507 total time=   0.0s\n",
      "[CV 3/3] END alpha=1.0, fit_prior=False, min_categories=1;, score=0.552 total time=   0.0s\n",
      "[CV 1/3] END alpha=1.0, fit_prior=False, min_categories=2;, score=0.525 total time=   0.0s\n",
      "[CV 2/3] END alpha=1.0, fit_prior=False, min_categories=2;, score=0.507 total time=   0.0s\n",
      "[CV 3/3] END alpha=1.0, fit_prior=False, min_categories=2;, score=0.552 total time=   0.0s\n",
      "\n",
      "Treinamento concluído com sucesso!\n",
      "Melhor acurácia: 52.79%\n",
      "Melhores parâmetros: {'alpha': 0.1, 'fit_prior': False, 'min_categories': 1}\n",
      "Tempo total: 0.18 segundos\n"
     ]
    }
   ],
   "source": [
    "# 1. Verificação robusta dos dados de entrada\n",
    "print(\"\\nVerificando dados de entrada...\")\n",
    "\n",
    "# Converter para numpy array se não for\n",
    "if not isinstance(X_treino_normalizados, np.ndarray):\n",
    "    X_treino_normalizados = np.array(X_treino_normalizados)\n",
    "if not isinstance(y_treino, np.ndarray):\n",
    "    y_treino = np.array(y_treino)\n",
    "\n",
    "print(f\"Tipo de X_treino: {type(X_treino_normalizados)}\")\n",
    "print(f\"Forma de X_treino: {X_treino_normalizados.shape}\")\n",
    "print(f\"Tipo de y_treino: {type(y_treino)}\")\n",
    "print(f\"Forma de y_treino: {y_treino.shape}\")\n",
    "\n",
    "# 2. Modelo base\n",
    "nb = CategoricalNB()\n",
    "\n",
    "# 3. Grid de parâmetros simplificado e validado\n",
    "param_grid = {\n",
    "    'alpha': [0.1, 0.5, 1.0],  # Valores float positivos\n",
    "    'fit_prior': [True, False],  # Booleanos reais\n",
    "    'min_categories': [1, 2]     # Inteiros positivos\n",
    "}\n",
    "\n",
    "# 4. Configuração do GridSearchCV\n",
    "nb_grid = GridSearchCV(\n",
    "    estimator=nb,\n",
    "    param_grid=param_grid,\n",
    "    cv=3,\n",
    "    n_jobs=1,  # Mantido como 1 para debug\n",
    "    error_score='raise',\n",
    "    verbose=3\n",
    ")\n",
    "\n",
    "# 5. Treinamento com tratamento de erros robusto\n",
    "print(\"\\nIniciando treinamento...\")\n",
    "inicio = time.time()\n",
    "\n",
    "try:\n",
    "    nb_grid.fit(X_treino_normalizados, y_treino)\n",
    "    fim = time.time()\n",
    "    \n",
    "    print(\"\\nTreinamento concluído com sucesso!\")\n",
    "    print(f\"Melhor acurácia: {nb_grid.best_score_:.2%}\")\n",
    "    print(f\"Melhores parâmetros: {nb_grid.best_params_}\")\n",
    "    print(f\"Tempo total: {fim - inicio:.2f} segundos\")\n",
    "\n",
    "except Exception as e:\n",
    "    print(\"\\nFalha no treinamento:\")\n",
    "    print(f\"Tipo do erro: {type(e).__name__}\")\n",
    "    print(f\"Mensagem: {str(e)}\")\n",
    "    \n",
    "    # Informações adicionais para debug\n",
    "    print(\"\\nInformações adicionais:\")\n",
    "    print(\"Tipos únicos em X_treino:\", np.unique(X_treino_normalizados))\n",
    "    print(\"Classes em y_treino:\", np.unique(y_treino))\n",
    "    print(\"Tempo de Treinamento do Modelo: \", round(fim - inicio,2))\n",
    "    print(\"\")\n",
    "    print(\"Numero de treinamentos realizados: \", nb_grid.shape[0])\n",
    "    \n",
    "    raise"
   ]
  },
  {
   "cell_type": "code",
   "execution_count": 160,
   "id": "545e1d44-d6bc-48a3-961b-6a7787d97fda",
   "metadata": {},
   "outputs": [],
   "source": [
    "# Dicionário de métricas e metadados - USANDO O OBJETO GRIDSEARCH CORRETO\n",
    "\n",
    "modelo_naiveBayes = {\n",
    "    'Melhores Hiperparametros': nb_grid.best_params_,\n",
    "    'Numero de Modelos Treinados': len(nb_grid.cv_results_['params']),  \n",
    "    'Melhor Score': f\"{round(nb_grid.best_score_ * 100, 2)}%\"\n",
    "}"
   ]
  },
  {
   "cell_type": "code",
   "execution_count": 146,
   "id": "f275087d",
   "metadata": {},
   "outputs": [
    {
     "data": {
      "text/plain": [
       "{'Melhores Hiperparametros': {'alpha': 0.1,\n",
       "  'fit_prior': False,\n",
       "  'min_categories': 1},\n",
       " 'Numero de Modelos Treinados': 12,\n",
       " 'Melhor Score': '52.79%'}"
      ]
     },
     "execution_count": 146,
     "metadata": {},
     "output_type": "execute_result"
    }
   ],
   "source": [
    "modelo_naiveBayes"
   ]
  },
  {
   "cell_type": "markdown",
   "id": "b6abc1cb",
   "metadata": {},
   "source": [
    "## Modelo KNN (K Nearest Neighbors)"
   ]
  },
  {
   "cell_type": "code",
   "execution_count": 148,
   "id": "ca5120db",
   "metadata": {},
   "outputs": [],
   "source": [
    "knn = KNeighborsClassifier()"
   ]
  },
  {
   "cell_type": "code",
   "execution_count": 150,
   "id": "044cdc70",
   "metadata": {},
   "outputs": [
    {
     "data": {
      "text/plain": [
       "{'algorithm': 'auto',\n",
       " 'leaf_size': 30,\n",
       " 'metric': 'minkowski',\n",
       " 'metric_params': None,\n",
       " 'n_jobs': None,\n",
       " 'n_neighbors': 5,\n",
       " 'p': 2,\n",
       " 'weights': 'uniform'}"
      ]
     },
     "execution_count": 150,
     "metadata": {},
     "output_type": "execute_result"
    }
   ],
   "source": [
    "knn.get_params()"
   ]
  },
  {
   "cell_type": "code",
   "execution_count": 152,
   "id": "3d83c10d",
   "metadata": {},
   "outputs": [
    {
     "name": "stdout",
     "output_type": "stream",
     "text": [
      "Acurácia em Treinamento: 74.14%\n",
      "\n",
      "Hiperparâmetros Ideais: {'algorithm': 'auto', 'leaf_size': 30, 'metric': 'minkowski', 'n_neighbors': 3}\n",
      "\n",
      "Tempo de Treinamento do Modelo:  14.03\n",
      "\n",
      "Numero de treinamentos realizados:  1144\n"
     ]
    }
   ],
   "source": [
    "# Valores para o grid de hiperparametros\n",
    "n_neighbors = np.array([3,4,5,6,7,8,9,10,11,12,13,14,15])\n",
    "algorithm = np.array(['auto', 'ball_tree', 'kd_tree', 'brute'])\n",
    "leaf_size = np.array([30,31,32,33,34,35,36,37,38,39,40])\n",
    "metric =  np.array(['minkowski','euclidean'])\n",
    "\n",
    "\n",
    "# Grid de hiperparâmetros\n",
    "grid_parametros = dict(n_neighbors = n_neighbors, algorithm = algorithm, leaf_size = leaf_size,metric = metric)\n",
    "\n",
    "knn = GridSearchCV(knn, grid_parametros, n_jobs = 8)\n",
    "\n",
    "# Treinando os modelos\n",
    "inicio = time.time()\n",
    "knn.fit(X_treino_normalizados, y_treino)\n",
    "fim = time.time()\n",
    "\n",
    "# Obtendo e visualizando os parametros treinados\n",
    "treinos_knn = pd.DataFrame(knn.cv_results_)\n",
    "\n",
    "# Acurácia em Treino\n",
    "print(f\"Acurácia em Treinamento: {knn.best_score_ :.2%}\")\n",
    "print(\"\")\n",
    "print(f\"Hiperparâmetros Ideais: {knn.best_params_}\")\n",
    "print(\"\")\n",
    "print(\"Tempo de Treinamento do Modelo: \", round(fim - inicio,2))\n",
    "print(\"\")\n",
    "print(\"Numero de treinamentos realizados: \", treinos_knn.shape[0])"
   ]
  },
  {
   "cell_type": "code",
   "execution_count": 154,
   "id": "51fd353f",
   "metadata": {},
   "outputs": [],
   "source": [
    "# Dicionário de métricas e metadados\n",
    "\n",
    "modelo_knn = {'Melhores Hiperparametros':knn.best_params_,\n",
    "               'Numero de Modelos Treinados': treinos_knn.shape[0],  \n",
    "               'Melhor Score': str(round(knn.best_score_ * 100,2))+\"%\"}"
   ]
  },
  {
   "cell_type": "code",
   "execution_count": 156,
   "id": "9fcfb7aa",
   "metadata": {},
   "outputs": [
    {
     "data": {
      "text/plain": [
       "{'Melhores Hiperparametros': {'algorithm': 'auto',\n",
       "  'leaf_size': 30,\n",
       "  'metric': 'minkowski',\n",
       "  'n_neighbors': 3},\n",
       " 'Numero de Modelos Treinados': 1144,\n",
       " 'Melhor Score': '74.14%'}"
      ]
     },
     "execution_count": 156,
     "metadata": {},
     "output_type": "execute_result"
    }
   ],
   "source": [
    "modelo_knn"
   ]
  },
  {
   "cell_type": "markdown",
   "id": "ac514abf",
   "metadata": {},
   "source": [
    "## Modelo Logistic Regression  "
   ]
  },
  {
   "cell_type": "code",
   "execution_count": 162,
   "id": "967be81b",
   "metadata": {},
   "outputs": [],
   "source": [
    "regressaoLogistica = LogisticRegression()"
   ]
  },
  {
   "cell_type": "code",
   "execution_count": 164,
   "id": "071fb1a2",
   "metadata": {},
   "outputs": [
    {
     "data": {
      "text/plain": [
       "{'C': 1.0,\n",
       " 'class_weight': None,\n",
       " 'dual': False,\n",
       " 'fit_intercept': True,\n",
       " 'intercept_scaling': 1,\n",
       " 'l1_ratio': None,\n",
       " 'max_iter': 100,\n",
       " 'multi_class': 'deprecated',\n",
       " 'n_jobs': None,\n",
       " 'penalty': 'l2',\n",
       " 'random_state': None,\n",
       " 'solver': 'lbfgs',\n",
       " 'tol': 0.0001,\n",
       " 'verbose': 0,\n",
       " 'warm_start': False}"
      ]
     },
     "execution_count": 164,
     "metadata": {},
     "output_type": "execute_result"
    }
   ],
   "source": [
    "regressaoLogistica.get_params()"
   ]
  },
  {
   "cell_type": "code",
   "execution_count": 166,
   "id": "d1c66607",
   "metadata": {},
   "outputs": [
    {
     "name": "stdout",
     "output_type": "stream",
     "text": [
      "Acurácia em Treinamento: 66.50%\n",
      "\n",
      "Hiperparâmetros Ideais: {'C': 1.0, 'intercept_scaling': 1.0, 'max_iter': 110, 'penalty': 'l2', 'solver': 'sag', 'tol': 1.0}\n",
      "\n",
      "Tempo de Treinamento do Modelo:  5.59\n",
      "\n",
      "Numero de treinamentos realizados:  2400\n"
     ]
    }
   ],
   "source": [
    "# Valores para o grid de parametros\n",
    "max_iter = np.array([100,110,120,130,140,150])\n",
    "dual = np.array(['True','False'])\n",
    "c = np.array([1.0,1.5,1.8,2.0])\n",
    "tol = np.array([0.0001,0.001,0.01,0.1, 1])\n",
    "penalty =  np.array(['l1','l2'])\n",
    "intercept_scaling = np.array([1.0,2.0])\n",
    "solver = np.array(['newton-cg', 'lbfgs', 'liblinear', 'sag', 'saga'])\n",
    "\n",
    "# Grid de hiperparâmetros\n",
    "grid_parametros = dict(max_iter = max_iter,\n",
    "                       C = c,\n",
    "                       penalty = penalty,\n",
    "                       tol = tol,\n",
    "                       solver = solver,\n",
    "                       intercept_scaling = intercept_scaling)\n",
    "\n",
    "regressaoLogistica = GridSearchCV(regressaoLogistica, grid_parametros, n_jobs = 8)\n",
    "\n",
    "# Treinando os modelos\n",
    "inicio = time.time()\n",
    "regressaoLogistica.fit(X_treino_normalizados, y_treino)\n",
    "fim = time.time()\n",
    "\n",
    "# Obtendo e visualizando os parametros treinados\n",
    "treinos_rlog = pd.DataFrame(regressaoLogistica.cv_results_)\n",
    "\n",
    "# Acurácia em Treino\n",
    "print(f\"Acurácia em Treinamento: {regressaoLogistica.best_score_ :.2%}\")\n",
    "print(\"\")\n",
    "print(f\"Hiperparâmetros Ideais: {regressaoLogistica.best_params_}\")\n",
    "print(\"\")\n",
    "print(\"Tempo de Treinamento do Modelo: \", round(fim - inicio,2))\n",
    "print(\"\")\n",
    "print(\"Numero de treinamentos realizados: \", treinos_rlog.shape[0])"
   ]
  },
  {
   "cell_type": "code",
   "execution_count": 168,
   "id": "d1aa2cc9",
   "metadata": {},
   "outputs": [],
   "source": [
    "# Dicionário de métricas e metadados\n",
    "\n",
    "modelo_regressaoLogistica = {'Melhores Hiperparametros':regressaoLogistica.best_params_,\n",
    "               'Numero de Modelos Treinados': treinos_rlog.shape[0],  \n",
    "               'Melhor Score': str(round(regressaoLogistica.best_score_ * 100,2))+\"%\"}"
   ]
  },
  {
   "cell_type": "code",
   "execution_count": 170,
   "id": "8de74b3d",
   "metadata": {},
   "outputs": [
    {
     "data": {
      "text/plain": [
       "{'Melhores Hiperparametros': {'C': 1.0,\n",
       "  'intercept_scaling': 1.0,\n",
       "  'max_iter': 110,\n",
       "  'penalty': 'l2',\n",
       "  'solver': 'sag',\n",
       "  'tol': 1.0},\n",
       " 'Numero de Modelos Treinados': 2400,\n",
       " 'Melhor Score': '66.5%'}"
      ]
     },
     "execution_count": 170,
     "metadata": {},
     "output_type": "execute_result"
    }
   ],
   "source": [
    "modelo_regressaoLogistica"
   ]
  },
  {
   "cell_type": "code",
   "execution_count": 172,
   "id": "4ebeb28a",
   "metadata": {},
   "outputs": [],
   "source": [
    "# Gerando o DataFrame com todos os valores de todos os modelos treinados\n",
    "\n",
    "resumo = pd.DataFrame({'Random Forest':pd.Series(modelo_rf),\n",
    "                       'SVM':pd.Series(modelo_svm),\n",
    "                       'Naive Bayes':pd.Series(modelo_naiveBayes),\n",
    "                       'KNN':pd.Series(modelo_knn),\n",
    "                       'Regressão Logistica':pd.Series(modelo_regressaoLogistica)})"
   ]
  },
  {
   "cell_type": "code",
   "execution_count": 174,
   "id": "288bc593",
   "metadata": {},
   "outputs": [
    {
     "data": {
      "text/html": [
       "<div>\n",
       "<style scoped>\n",
       "    .dataframe tbody tr th:only-of-type {\n",
       "        vertical-align: middle;\n",
       "    }\n",
       "\n",
       "    .dataframe tbody tr th {\n",
       "        vertical-align: top;\n",
       "    }\n",
       "\n",
       "    .dataframe thead th {\n",
       "        text-align: right;\n",
       "    }\n",
       "</style>\n",
       "<table border=\"1\" class=\"dataframe\">\n",
       "  <thead>\n",
       "    <tr style=\"text-align: right;\">\n",
       "      <th></th>\n",
       "      <th>Random Forest</th>\n",
       "      <th>SVM</th>\n",
       "      <th>Naive Bayes</th>\n",
       "      <th>KNN</th>\n",
       "      <th>Regressão Logistica</th>\n",
       "    </tr>\n",
       "  </thead>\n",
       "  <tbody>\n",
       "    <tr>\n",
       "      <th>Melhores Hiperparametros</th>\n",
       "      <td>{'bootstrap': True, 'criterion': 'entropy', 'm...</td>\n",
       "      <td>{'C': 10, 'coef0': 0.5, 'decision_function_sha...</td>\n",
       "      <td>{'alpha': 0.1, 'fit_prior': False, 'min_catego...</td>\n",
       "      <td>{'algorithm': 'auto', 'leaf_size': 30, 'metric...</td>\n",
       "      <td>{'C': 1.0, 'intercept_scaling': 1.0, 'max_iter...</td>\n",
       "    </tr>\n",
       "    <tr>\n",
       "      <th>Numero de Modelos Treinados</th>\n",
       "      <td>1080</td>\n",
       "      <td>1536</td>\n",
       "      <td>12</td>\n",
       "      <td>1144</td>\n",
       "      <td>2400</td>\n",
       "    </tr>\n",
       "    <tr>\n",
       "      <th>Melhor Score</th>\n",
       "      <td>78.64%</td>\n",
       "      <td>75.07%</td>\n",
       "      <td>52.79%</td>\n",
       "      <td>74.14%</td>\n",
       "      <td>66.5%</td>\n",
       "    </tr>\n",
       "  </tbody>\n",
       "</table>\n",
       "</div>"
      ],
      "text/plain": [
       "                                                                 Random Forest  \\\n",
       "Melhores Hiperparametros     {'bootstrap': True, 'criterion': 'entropy', 'm...   \n",
       "Numero de Modelos Treinados                                               1080   \n",
       "Melhor Score                                                            78.64%   \n",
       "\n",
       "                                                                           SVM  \\\n",
       "Melhores Hiperparametros     {'C': 10, 'coef0': 0.5, 'decision_function_sha...   \n",
       "Numero de Modelos Treinados                                               1536   \n",
       "Melhor Score                                                            75.07%   \n",
       "\n",
       "                                                                   Naive Bayes  \\\n",
       "Melhores Hiperparametros     {'alpha': 0.1, 'fit_prior': False, 'min_catego...   \n",
       "Numero de Modelos Treinados                                                 12   \n",
       "Melhor Score                                                            52.79%   \n",
       "\n",
       "                                                                           KNN  \\\n",
       "Melhores Hiperparametros     {'algorithm': 'auto', 'leaf_size': 30, 'metric...   \n",
       "Numero de Modelos Treinados                                               1144   \n",
       "Melhor Score                                                            74.14%   \n",
       "\n",
       "                                                           Regressão Logistica  \n",
       "Melhores Hiperparametros     {'C': 1.0, 'intercept_scaling': 1.0, 'max_iter...  \n",
       "Numero de Modelos Treinados                                               2400  \n",
       "Melhor Score                                                             66.5%  "
      ]
     },
     "execution_count": 174,
     "metadata": {},
     "output_type": "execute_result"
    }
   ],
   "source": [
    "resumo"
   ]
  },
  {
   "cell_type": "markdown",
   "id": "f113abe0-d6d8-4f4b-8a19-e7712375f163",
   "metadata": {},
   "source": [
    "## Análise Prática dos Resultados"
   ]
  },
  {
   "cell_type": "markdown",
   "id": "0c6e0eb9-49dc-43ca-ad28-aef323b8f0e2",
   "metadata": {},
   "source": [
    "### 1. Comparação de Desempenho"
   ]
  },
  {
   "cell_type": "markdown",
   "id": "5f40fca6-6556-4095-910c-8d4067e08ce5",
   "metadata": {},
   "source": [
    "- Random Forest (78.64%) claramente teve o melhor desempenho entre os modelos testados\n",
    "\n",
    "- SVM (75.07%) e KNN (74.14%) tiveram desempenhos próximos\n",
    "\n",
    "- Regressão Logística (66.5%) e Naive Bayes (52.79%) ficaram significativamente atrás"
   ]
  },
  {
   "cell_type": "markdown",
   "id": "14766f43-b12f-409c-afba-687aa6effec0",
   "metadata": {},
   "source": [
    "Insight Prático: De acordo com o que foi apresentado o ideal de implementação seria o Random Forest em produção, mas manteria o SVM como alternativa por ter desempenho similar."
   ]
  },
  {
   "cell_type": "markdown",
   "id": "37186385-616a-49f8-9db6-5807c910a8f9",
   "metadata": {},
   "source": [
    "### 2. Custo-Complexidade vs. Performance"
   ]
  },
  {
   "cell_type": "markdown",
   "id": "7dea296f-58ee-4772-9861-5a1b1da04cfe",
   "metadata": {},
   "source": [
    "- Random Forest teve 1080 combinações testadas (alto custo computacional)\n",
    "\n",
    "- Naive Bayes só testou 12 combinações (baixo custo) mas performance ruim\n",
    "\n",
    "- SVM com bom desempenho mas 1536 combinações testadas (alto custo)"
   ]
  },
  {
   "cell_type": "markdown",
   "id": "e01afd4f-3888-4a21-bfe2-c2a2d44e1bc0",
   "metadata": {},
   "source": [
    "Insight Prático: Para problemas que precisam de retreinamento frequente, o KNN (1144 combinações) pode ser uma opção mais viável que o SVM, com desempenho similar."
   ]
  },
  {
   "cell_type": "markdown",
   "id": "2b6ad5f3-3eec-4b99-bba2-854f547606e7",
   "metadata": {},
   "source": [
    "### 3. Interpretabilidade dos Modelos"
   ]
  },
  {
   "cell_type": "markdown",
   "id": "8e0b5d5e-32d0-4b18-915b-9726f2075a71",
   "metadata": {},
   "source": [
    "- Regressão Logística (pior desempenho) é mais interpretável\n",
    "\n",
    "- Random Forest (melhor desempenho) é menos interpretável"
   ]
  },
  {
   "cell_type": "markdown",
   "id": "eea4f382-db43-466b-8a40-78b973e8c214",
   "metadata": {},
   "source": [
    "Ação Prática: Se a interpretabilidade for crucial (como em crédito ou saúde), pode-se sacrificar performance pela Regressão Logística. Caso contrário, opta-se pelo Random Forest."
   ]
  },
  {
   "cell_type": "markdown",
   "id": "e11d1dd6-088e-4ce9-a329-8a8ea414344a",
   "metadata": {},
   "source": [
    "## Como Isso é Usado na Vida Real"
   ]
  },
  {
   "cell_type": "markdown",
   "id": "7eaf70be-31d8-4d93-b6a3-3bfd8c528241",
   "metadata": {},
   "source": [
    "### 1. Tomada de Decisão de Implementação"
   ]
  },
  {
   "cell_type": "markdown",
   "id": "926e3dc1-3012-45aa-bb4b-801c088d6940",
   "metadata": {},
   "source": [
    "Eu sendo o analista criaria um relatório recomendando:"
   ]
  },
  {
   "cell_type": "markdown",
   "id": "48acbad1-3c2d-4a29-82f8-d3eaa70d9a54",
   "metadata": {},
   "source": [
    "- Implementar o Random Forest como modelo principal\n",
    "\n",
    "- Manter o SVM como modelo secundário para comparação\n",
    "\n",
    "- Descartar Naive Bayes por desempenho insuficiente"
   ]
  },
  {
   "cell_type": "code",
   "execution_count": null,
   "id": "323d0951-6407-4cfb-8e20-a16d442a27c3",
   "metadata": {},
   "outputs": [],
   "source": []
  }
 ],
 "metadata": {
  "kernelspec": {
   "display_name": "Python [conda env:base] *",
   "language": "python",
   "name": "conda-base-py"
  },
  "language_info": {
   "codemirror_mode": {
    "name": "ipython",
    "version": 3
   },
   "file_extension": ".py",
   "mimetype": "text/x-python",
   "name": "python",
   "nbconvert_exporter": "python",
   "pygments_lexer": "ipython3",
   "version": "3.12.3"
  }
 },
 "nbformat": 4,
 "nbformat_minor": 5
}
